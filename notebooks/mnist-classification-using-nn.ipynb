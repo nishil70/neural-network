{
 "cells": [
  {
   "cell_type": "markdown",
   "metadata": {},
   "source": [
    "# MNIST handwritten digits classification using Neural Network"
   ]
  },
  {
   "cell_type": "code",
   "execution_count": 1,
   "metadata": {},
   "outputs": [],
   "source": [
    "from mnist_loader import load_data_wrapper\n",
    "import NeuralNetworkUtility as nn\n",
    "import numpy as np"
   ]
  },
  {
   "cell_type": "markdown",
   "metadata": {},
   "source": [
    "## Importing data"
   ]
  },
  {
   "cell_type": "code",
   "execution_count": 2,
   "metadata": {},
   "outputs": [],
   "source": [
    "training_data, validation_data, test_data = load_data_wrapper()"
   ]
  },
  {
   "cell_type": "code",
   "execution_count": 3,
   "metadata": {},
   "outputs": [
    {
     "data": {
      "image/png": "[encoded data removed]",
      "text/plain": [
       "<Figure size 432x288 with 15 Axes>"
      ]
     },
     "metadata": {},
     "output_type": "display_data"
    }
   ],
   "source": [
    "nn.plot_images(training_data[0:15])"
   ]
  },
  {
   "cell_type": "code",
   "execution_count": 4,
   "metadata": {},
   "outputs": [
    {
     "data": {
      "image/png": "[encoded data removed]",
      "text/plain": [
       "<Figure size 432x288 with 15 Axes>"
      ]
     },
     "metadata": {},
     "output_type": "display_data"
    }
   ],
   "source": [
    "nn.plot_images(test_data[0:15])"
   ]
  },
  {
   "cell_type": "markdown",
   "metadata": {},
   "source": [
    "## Training the neural network \n",
    "- Parameters\n",
    "    - Training images\n",
    "    - Epochs\n",
    "    - Batch size (the number of images used to approximate the gradient each step of gradient descent)\n",
    "    - Learning rate\n",
    "    - Test images (check accuracy of the model against the test_data every epoch)\n",
    "- Shows the accuracy of model with each Epoch"
   ]
  },
  {
   "cell_type": "code",
   "execution_count": 5,
   "metadata": {},
   "outputs": [
    {
     "name": "stdout",
     "output_type": "stream",
     "text": [
      "Epoch 0 : 7870 / 10000\n",
      "Epoch 1 : 8586 / 10000\n",
      "Epoch 2 : 8863 / 10000\n",
      "Epoch 3 : 8953 / 10000\n",
      "Epoch 4 : 9080 / 10000\n",
      "Epoch 5 : 9125 / 10000\n",
      "Epoch 6 : 9161 / 10000\n",
      "Epoch 7 : 9189 / 10000\n",
      "Epoch 8 : 9217 / 10000\n",
      "Epoch 9 : 9228 / 10000\n",
      "Epoch 10 : 9252 / 10000\n",
      "Epoch 11 : 9271 / 10000\n",
      "Epoch 12 : 9283 / 10000\n",
      "Epoch 13 : 9295 / 10000\n",
      "Epoch 14 : 9312 / 10000\n",
      "Epoch 15 : 9305 / 10000\n",
      "Epoch 16 : 9304 / 10000\n",
      "Epoch 17 : 9325 / 10000\n",
      "Epoch 18 : 9348 / 10000\n",
      "Epoch 19 : 9360 / 10000\n",
      "Epoch 20 : 9352 / 10000\n",
      "Epoch 21 : 9348 / 10000\n",
      "Epoch 22 : 9349 / 10000\n",
      "Epoch 23 : 9364 / 10000\n",
      "Epoch 24 : 9369 / 10000\n",
      "Epoch 25 : 9369 / 10000\n",
      "Epoch 26 : 9365 / 10000\n",
      "Epoch 27 : 9378 / 10000\n",
      "Epoch 28 : 9388 / 10000\n",
      "Epoch 29 : 9378 / 10000\n"
     ]
    }
   ],
   "source": [
    "W1, B1, W2, B2 = nn.SGD(training_data, 30, 10, 3, test_data)"
   ]
  },
  {
   "cell_type": "markdown",
   "metadata": {},
   "source": [
    "## Testing the trained model"
   ]
  },
  {
   "cell_type": "code",
   "execution_count": 6,
   "metadata": {},
   "outputs": [
    {
     "data": {
      "text/plain": [
       "[3, 8, 6, 9, 6, 4, 5, 3, 8, 4]"
      ]
     },
     "execution_count": 6,
     "metadata": {},
     "output_type": "execute_result"
    }
   ],
   "source": [
    "nn.predict(validation_data[0:10], W1,W2,B1,B2)"
   ]
  },
  {
   "cell_type": "code",
   "execution_count": 7,
   "metadata": {},
   "outputs": [
    {
     "data": {
      "image/png": "[encoded data removed]",
      "text/plain": [
       "<Figure size 432x288 with 10 Axes>"
      ]
     },
     "metadata": {},
     "output_type": "display_data"
    }
   ],
   "source": [
    "nn.plot_images(validation_data[0:10])"
   ]
  },
  {
   "cell_type": "markdown",
   "metadata": {},
   "source": [
    "## Checking the accuracy on testing and validation sets"
   ]
  },
  {
   "cell_type": "code",
   "execution_count": 8,
   "metadata": {},
   "outputs": [
    {
     "name": "stdout",
     "output_type": "stream",
     "text": [
      "Accuracy is: 93.78%\n"
     ]
    }
   ],
   "source": [
    "nn.check_accuracy(W1, B1, W2, B2, test_data)"
   ]
  },
  {
   "cell_type": "code",
   "execution_count": 9,
   "metadata": {},
   "outputs": [
    {
     "name": "stdout",
     "output_type": "stream",
     "text": [
      "Accuracy is: 94.01%\n"
     ]
    }
   ],
   "source": [
    "nn.check_accuracy(W1, B1, W2, B2, validation_data)"
   ]
  },
  {
   "cell_type": "markdown",
   "metadata": {},
   "source": [
    "## Results\n",
    "- Simple learning algorithm performs pretty good, provided:\n",
    "    - Model is trained with right hyper parameters (i.e., learning rate, epochs, etc.)\n",
    "    - Training data available is good quality\n",
    "- More sophisticated algorithms are required if the quality of training data is not upto the mark"
   ]
  }
 ],
 "metadata": {
  "kernelspec": {
   "display_name": "Python 3",
   "language": "python",
   "name": "python3"
  },
  "language_info": {
   "codemirror_mode": {
    "name": "ipython",
    "version": 3
   },
   "file_extension": ".py",
   "mimetype": "text/x-python",
   "name": "python",
   "nbconvert_exporter": "python",
   "pygments_lexer": "ipython3",
   "version": "3.6.5"
  }
 },
 "nbformat": 4,
 "nbformat_minor": 2
}
